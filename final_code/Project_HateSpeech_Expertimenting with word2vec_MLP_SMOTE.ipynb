{
 "cells": [
  {
   "cell_type": "markdown",
   "id": "2fccd7c6",
   "metadata": {},
   "source": [
    "# Here I'm checking for using smote with and without word2vec, glove twitter with MLP classifiers"
   ]
  },
  {
   "cell_type": "code",
   "execution_count": 1,
   "id": "93dd1934",
   "metadata": {},
   "outputs": [],
   "source": [
    "import pandas as pd\n",
    "import numpy as np\n",
    "import seaborn as sns\n",
    "from matplotlib import pyplot as plt\n",
    "import re\n",
    "import nltk\n",
    "from nltk.corpus import stopwords\n",
    "from nltk.stem import WordNetLemmatizer\n",
    "from collections import Counter\n",
    "from sklearn.model_selection import train_test_split\n",
    "from sklearn.metrics import accuracy_score, precision_score, recall_score, f1_score, confusion_matrix\n",
    "from sklearn.naive_bayes import MultinomialNB\n",
    "from sklearn.linear_model import LogisticRegression\n",
    "from sklearn.feature_extraction.text import TfidfVectorizer\n",
    "import gensim.downloader\n",
    "\n",
    "from sklearn.neural_network import MLPClassifier"
   ]
  },
  {
   "cell_type": "code",
   "execution_count": 4,
   "id": "6b2e16c2",
   "metadata": {},
   "outputs": [
    {
     "name": "stderr",
     "output_type": "stream",
     "text": [
      "[nltk_data] Downloading package stopwords to\n",
      "[nltk_data]     C:\\Users\\acer\\AppData\\Roaming\\nltk_data...\n",
      "[nltk_data]   Package stopwords is already up-to-date!\n"
     ]
    },
    {
     "data": {
      "text/plain": [
       "True"
      ]
     },
     "execution_count": 4,
     "metadata": {},
     "output_type": "execute_result"
    }
   ],
   "source": [
    "nltk.download('stopwords')"
   ]
  },
  {
   "cell_type": "code",
   "execution_count": 3,
   "id": "cf772ea0",
   "metadata": {},
   "outputs": [
    {
     "name": "stderr",
     "output_type": "stream",
     "text": [
      "[nltk_data] Downloading package wordnet to\n",
      "[nltk_data]     C:\\Users\\acer\\AppData\\Roaming\\nltk_data...\n",
      "[nltk_data]   Package wordnet is already up-to-date!\n"
     ]
    },
    {
     "data": {
      "text/plain": [
       "True"
      ]
     },
     "execution_count": 3,
     "metadata": {},
     "output_type": "execute_result"
    }
   ],
   "source": [
    "nltk.download('wordnet')"
   ]
  },
  {
   "cell_type": "markdown",
   "id": "846f3cb3",
   "metadata": {},
   "source": [
    "#### All the below steps aree from previous part 1"
   ]
  },
  {
   "cell_type": "code",
   "execution_count": 5,
   "id": "66f8da7f",
   "metadata": {},
   "outputs": [],
   "source": [
    "df_train=pd.read_csv('labeled_data.csv')"
   ]
  },
  {
   "cell_type": "code",
   "execution_count": 6,
   "id": "8a26642f",
   "metadata": {},
   "outputs": [],
   "source": [
    "# No empty data..plus Id is there, which I don't need. So, I'm dropping it\n",
    "df_train.drop(labels=['Unnamed: 0'],axis=1,inplace=True)"
   ]
  },
  {
   "cell_type": "code",
   "execution_count": 6,
   "id": "2be1c048",
   "metadata": {},
   "outputs": [],
   "source": []
  },
  {
   "cell_type": "code",
   "execution_count": 7,
   "id": "ae6d823b",
   "metadata": {},
   "outputs": [],
   "source": [
    "df_train.loc[(df_train['class']== 0),'class']=1"
   ]
  },
  {
   "cell_type": "code",
   "execution_count": 8,
   "id": "9c2eca22",
   "metadata": {},
   "outputs": [],
   "source": [
    "df_train.loc[(df_train['class']==2),'class']=0"
   ]
  },
  {
   "cell_type": "code",
   "execution_count": 9,
   "id": "cd119c44",
   "metadata": {},
   "outputs": [],
   "source": [
    "hatespeech=df_train[df_train['class']==1]['class'].count()\n",
    "not_hatespeech=df_train[df_train['class']==0]['class'].count()"
   ]
  },
  {
   "cell_type": "code",
   "execution_count": 10,
   "id": "d03c3d74",
   "metadata": {},
   "outputs": [
    {
     "data": {
      "text/plain": [
       "Text(0.5, 1.0, 'Class Distribution')"
      ]
     },
     "execution_count": 10,
     "metadata": {},
     "output_type": "execute_result"
    },
    {
     "data": {
      "image/png": "[encoded data removed]",
      "text/plain": [
       "<Figure size 1000x800 with 1 Axes>"
      ]
     },
     "metadata": {},
     "output_type": "display_data"
    }
   ],
   "source": [
    "plt.figure(figsize=(10,8))\n",
    "plt.bar(x=['hatespeech','not_hatespeech'],height=[hatespeech,not_hatespeech])\n",
    "plt.xlabel('labels')\n",
    "plt.ylabel('count')\n",
    "plt.title('Class Distribution')"
   ]
  },
  {
   "cell_type": "code",
   "execution_count": 11,
   "id": "e99ec1dc",
   "metadata": {},
   "outputs": [],
   "source": [
    "X=df_train['tweet']\n",
    "y=df_train['class']"
   ]
  },
  {
   "cell_type": "code",
   "execution_count": 12,
   "id": "4248b377",
   "metadata": {},
   "outputs": [
    {
     "data": {
      "text/plain": [
       "1    20620\n",
       "0     4163\n",
       "Name: class, dtype: int64"
      ]
     },
     "execution_count": 12,
     "metadata": {},
     "output_type": "execute_result"
    }
   ],
   "source": [
    "y.value_counts()"
   ]
  },
  {
   "cell_type": "markdown",
   "id": "5c912fa5",
   "metadata": {},
   "source": [
    "### Using glove embeddings for word2vec"
   ]
  },
  {
   "cell_type": "code",
   "execution_count": 13,
   "id": "00ee6754",
   "metadata": {},
   "outputs": [],
   "source": [
    "word2Vec = gensim.downloader.load('glove-twitter-200')"
   ]
  },
  {
   "cell_type": "code",
   "execution_count": 14,
   "id": "b8924af1",
   "metadata": {},
   "outputs": [],
   "source": [
    "stop_words = set(stopwords.words('english'))\n",
    "lemmatizer = WordNetLemmatizer()\n",
    "\n",
    "def preprocess(row):\n",
    "    row = row.lower()\n",
    "    row = re.sub(r'[^\\w\\s]', '', row)\n",
    "    words = row.split()\n",
    "    words = [lemmatizer.lemmatize(word) for word in words if word not in stop_words]\n",
    "    return ' '.join(words) if words else 'empty'\n",
    "\n",
    "        "
   ]
  },
  {
   "cell_type": "code",
   "execution_count": 15,
   "id": "8b3ffee0",
   "metadata": {},
   "outputs": [],
   "source": [
    "# Function to get the average vector for a set of reviews\n",
    "def get_average_vector(texts,label):    \n",
    "    training_vectors=[]\n",
    "    count_label=[]\n",
    "    for row in texts:\n",
    "        row = preprocess(row)  # Preprocessing remains consistent\n",
    "        words = row.split(\" \")\n",
    "        vector_list = []\n",
    "        for word in words:\n",
    "            if word in word2Vec:  # Ensure word is in the GloVe model\n",
    "                vector_list.append(word2Vec[word])\n",
    "        if vector_list:\n",
    "            training_vectors.append(np.mean(vector_list, axis=0))  # Simple average across vectors\n",
    "        else:\n",
    "            training_vectors.append(np.zeros(word2Vec.vector_size))# Return zeros if no vectors found\n",
    "        count_label.append(label)\n",
    "    return training_vectors,count_label"
   ]
  },
  {
   "cell_type": "code",
   "execution_count": 16,
   "id": "2b6509d8",
   "metadata": {},
   "outputs": [],
   "source": [
    "def train_MLP_model_average(train_df):\n",
    "    #word2Vec = gensim.downloader.load('glove-twitter-25')\n",
    "    positive_labels=train_df[train_df['class']==1]['tweet']\n",
    "    negative_labels=train_df[train_df['class']==0]['tweet']\n",
    "    positive_vector,positive_label=get_average_vector(positive_labels,1)\n",
    "    negative_vector,negative_label=get_average_vector(negative_labels,0)\n",
    "    X_train=positive_vector+negative_vector\n",
    "    y_train=positive_label+negative_label\n",
    "    mlp = MLPClassifier(hidden_layer_sizes=(100, 100, 100), max_iter=500, random_state=42)\n",
    "    # Convert lists to numpy arrays for model training\n",
    "    print(len(X_train),len(y_train))\n",
    "    X_train = np.array(X_train)\n",
    "    y_train = np.array(y_train)\n",
    "    mlp.fit(X_train,y_train)\n",
    "    return mlp"
   ]
  },
  {
   "cell_type": "code",
   "execution_count": 17,
   "id": "bd7551b0",
   "metadata": {},
   "outputs": [],
   "source": [
    "from sklearn.model_selection import train_test_split\n",
    "\n",
    "train,test = train_test_split(df_train, test_size=0.2, random_state=42, stratify=y)"
   ]
  },
  {
   "cell_type": "code",
   "execution_count": null,
   "id": "eff78fef",
   "metadata": {},
   "outputs": [],
   "source": []
  },
  {
   "cell_type": "code",
   "execution_count": 18,
   "id": "347ca8ca",
   "metadata": {},
   "outputs": [
    {
     "name": "stdout",
     "output_type": "stream",
     "text": [
      "19826 19826\n"
     ]
    }
   ],
   "source": [
    "mlp=train_MLP_model_average(train)"
   ]
  },
  {
   "cell_type": "code",
   "execution_count": 19,
   "id": "9b673acc",
   "metadata": {},
   "outputs": [],
   "source": [
    "def test_MLP_model(test, MLP_model, input_type='average'):\n",
    "    '''df_test = pd.read_csv(path_to_test_file, sep='\\t', header=None)\n",
    "    df_test = df_test.rename(columns={0: 'text', 1: 'label'})'''\n",
    "\n",
    "    # Helper function to choose between average and max pooling\n",
    "    def get_text_vector(text):\n",
    "        text = preprocess(text)\n",
    "        words = text.split(\" \")\n",
    "        vector_list = []\n",
    "        for word in words:\n",
    "            if word in word2Vec:\n",
    "                vector_list.append(word2Vec[word])\n",
    "        if vector_list:\n",
    "            if input_type == 'average':\n",
    "                return np.mean(vector_list, axis=0)  # Average vector\n",
    "        else:\n",
    "            return np.zeros(word2Vec.vector_size)  # Zero vector if no valid words\n",
    "\n",
    "    # Create vectors for the test set\n",
    "    X_test = np.array([get_text_vector(row) for row in test['tweet']])\n",
    "    y_test = test['class'].values\n",
    "    \n",
    "    # Get predictions and probabilities\n",
    "    y_pred = MLP_model.predict(X_test)\n",
    "    y_prob = MLP_model.predict_proba(X_test)[:, 1]  # Probability of being positive\n",
    "\n",
    "    # Add new columns to the test dataframe\n",
    "    test['probability_positive'] = y_prob\n",
    "    test['predicted_class'] = y_pred\n",
    "\n",
    "    # Calculate metrics\n",
    "    accuracy = accuracy_score(y_test, y_pred)\n",
    "    precision = precision_score(y_test, y_pred, average='binary')\n",
    "    recall = recall_score(y_test, y_pred, average='binary')\n",
    "    conf_matrix = confusion_matrix(y_test, y_pred)\n",
    "    f1 = f1_score(y_test, y_pred, average='binary')\n",
    "\n",
    "    # Print metrics\n",
    "    print(f\"Accuracy: {accuracy}\")\n",
    "    print(f\"Precision: {precision}\")\n",
    "    print(f\"Recall: {recall}\")\n",
    "    print(f\"F1 Score: {f1}\")\n",
    "    print(f\"Confusion Matrix:\\n{conf_matrix}\")\n"
   ]
  },
  {
   "cell_type": "markdown",
   "id": "9b8080a7",
   "metadata": {},
   "source": [
    "#### Result without Smote and twitter 200"
   ]
  },
  {
   "cell_type": "code",
   "execution_count": 20,
   "id": "0079151d",
   "metadata": {},
   "outputs": [
    {
     "name": "stdout",
     "output_type": "stream",
     "text": [
      "Accuracy: 0.9297962477304822\n",
      "Precision: 0.9510272336359293\n",
      "Recall: 0.9653249272550921\n",
      "F1 Score: 0.9581227436823104\n",
      "Confusion Matrix:\n",
      "[[ 628  205]\n",
      " [ 143 3981]]\n"
     ]
    }
   ],
   "source": [
    "test_MLP_model(test,mlp) #twitter 200 without smote"
   ]
  },
  {
   "cell_type": "code",
   "execution_count": 48,
   "id": "9eb90828",
   "metadata": {},
   "outputs": [
    {
     "data": {
      "text/plain": [
       "count                   286\n",
       "hate_speech             286\n",
       "offensive_language      286\n",
       "neither                 286\n",
       "class                   286\n",
       "tweet                   286\n",
       "probability_positive    286\n",
       "predicted_class         286\n",
       "dtype: int64"
      ]
     },
     "execution_count": 48,
     "metadata": {},
     "output_type": "execute_result"
    }
   ],
   "source": [
    "test[test['class']==1].count()"
   ]
  },
  {
   "cell_type": "code",
   "execution_count": 22,
   "id": "52845368",
   "metadata": {},
   "outputs": [
    {
     "name": "stdout",
     "output_type": "stream",
     "text": [
      "Requirement already satisfied: scikit-learn in c:\\users\\acer\\anaconda3\\lib\\site-packages (1.5.2)\n",
      "Requirement already satisfied: numpy>=1.19.5 in c:\\users\\acer\\anaconda3\\lib\\site-packages (from scikit-learn) (1.26.4)\n",
      "Requirement already satisfied: scipy>=1.6.0 in c:\\users\\acer\\anaconda3\\lib\\site-packages (from scikit-learn) (1.10.1)\n",
      "Requirement already satisfied: joblib>=1.2.0 in c:\\users\\acer\\anaconda3\\lib\\site-packages (from scikit-learn) (1.2.0)\n",
      "Requirement already satisfied: threadpoolctl>=3.1.0 in c:\\users\\acer\\anaconda3\\lib\\site-packages (from scikit-learn) (3.5.0)\n",
      "Requirement already satisfied: imbalanced-learn in c:\\users\\acer\\anaconda3\\lib\\site-packages (0.8.0)\n",
      "Requirement already satisfied: numpy>=1.13.3 in c:\\users\\acer\\anaconda3\\lib\\site-packages (from imbalanced-learn) (1.26.4)\n",
      "Requirement already satisfied: scipy>=0.19.1 in c:\\users\\acer\\anaconda3\\lib\\site-packages (from imbalanced-learn) (1.10.1)\n",
      "Requirement already satisfied: scikit-learn>=0.24 in c:\\users\\acer\\anaconda3\\lib\\site-packages (from imbalanced-learn) (1.5.2)\n",
      "Requirement already satisfied: joblib>=0.11 in c:\\users\\acer\\anaconda3\\lib\\site-packages (from imbalanced-learn) (1.2.0)\n",
      "Requirement already satisfied: threadpoolctl>=3.1.0 in c:\\users\\acer\\anaconda3\\lib\\site-packages (from scikit-learn>=0.24->imbalanced-learn) (3.5.0)\n"
     ]
    }
   ],
   "source": [
    "!pip install scikit-learn\n",
    "!pip install imbalanced-learn"
   ]
  },
  {
   "cell_type": "code",
   "execution_count": 23,
   "id": "3d94a21e",
   "metadata": {},
   "outputs": [
    {
     "name": "stdout",
     "output_type": "stream",
     "text": [
      "Collecting scikit-learn==0.24.2\n",
      "  Using cached scikit-learn-0.24.2.tar.gz (7.5 MB)\n",
      "  Installing build dependencies: started\n",
      "  Installing build dependencies: finished with status 'done'\n",
      "  Getting requirements to build wheel: started\n",
      "  Getting requirements to build wheel: finished with status 'done'\n",
      "  Preparing metadata (pyproject.toml): started\n",
      "  Preparing metadata (pyproject.toml): finished with status 'error'\n"
     ]
    },
    {
     "name": "stderr",
     "output_type": "stream",
     "text": [
      "WARNING: Retrying (Retry(total=4, connect=None, read=None, redirect=None, status=None)) after connection broken by 'ProtocolError('Connection aborted.', ConnectionResetError(10054, 'An existing connection was forcibly closed by the remote host', None, 10054, None))': /simple/scikit-learn/\n",
      "WARNING: Retrying (Retry(total=3, connect=None, read=None, redirect=None, status=None)) after connection broken by 'ProtocolError('Connection aborted.', ConnectionResetError(10054, 'An existing connection was forcibly closed by the remote host', None, 10054, None))': /simple/scikit-learn/\n",
      "WARNING: Retrying (Retry(total=2, connect=None, read=None, redirect=None, status=None)) after connection broken by 'ProtocolError('Connection aborted.', ConnectionResetError(10054, 'An existing connection was forcibly closed by the remote host', None, 10054, None))': /simple/scikit-learn/\n",
      "WARNING: Retrying (Retry(total=1, connect=None, read=None, redirect=None, status=None)) after connection broken by 'ProtocolError('Connection aborted.', ConnectionResetError(10054, 'An existing connection was forcibly closed by the remote host', None, 10054, None))': /simple/scikit-learn/\n",
      "WARNING: Retrying (Retry(total=0, connect=None, read=None, redirect=None, status=None)) after connection broken by 'ProtocolError('Connection aborted.', ConnectionResetError(10054, 'An existing connection was forcibly closed by the remote host', None, 10054, None))': /simple/scikit-learn/\n",
      "  error: subprocess-exited-with-error\n",
      "  \n",
      "  Preparing metadata (pyproject.toml) did not run successfully.\n",
      "  exit code: 1\n",
      "  \n",
      "  [59 lines of output]\n",
      "  <string>:17: DeprecationWarning: pkg_resources is deprecated as an API. See https://setuptools.pypa.io/en/latest/pkg_resources.html\n",
      "  Partial import of sklearn during the build process.\n",
      "  <string>:116: DeprecationWarning:\n",
      "  \n",
      "    `numpy.distutils` is deprecated since NumPy 1.23.0, as a result\n",
      "    of the deprecation of `distutils` itself. It will be removed for\n",
      "    Python >= 3.12. For older Python versions it will remain present.\n",
      "    It is recommended to use `setuptools < 60.0` for those Python versions.\n",
      "    For more details, see:\n",
      "      https://numpy.org/devdocs/reference/distutils_status_migration.html\n",
      "  \n",
      "  \n",
      "  INFO: No module named 'numpy.distutils._msvccompiler' in numpy.distutils; trying from distutils\n",
      "  Traceback (most recent call last):\n",
      "    File \"C:\\Users\\acer\\anaconda3\\Lib\\site-packages\\pip\\_vendor\\pyproject_hooks\\_in_process\\_in_process.py\", line 353, in <module>\n",
      "      main()\n",
      "    File \"C:\\Users\\acer\\anaconda3\\Lib\\site-packages\\pip\\_vendor\\pyproject_hooks\\_in_process\\_in_process.py\", line 335, in main\n",
      "      json_out['return_val'] = hook(**hook_input['kwargs'])\n",
      "                               ^^^^^^^^^^^^^^^^^^^^^^^^^^^^\n",
      "    File \"C:\\Users\\acer\\anaconda3\\Lib\\site-packages\\pip\\_vendor\\pyproject_hooks\\_in_process\\_in_process.py\", line 149, in prepare_metadata_for_build_wheel\n",
      "      return hook(metadata_directory, config_settings)\n",
      "             ^^^^^^^^^^^^^^^^^^^^^^^^^^^^^^^^^^^^^^^^^\n",
      "    File \"C:\\Users\\acer\\AppData\\Local\\Temp\\pip-build-env-453hsv87\\overlay\\Lib\\site-packages\\setuptools\\build_meta.py\", line 377, in prepare_metadata_for_build_wheel\n",
      "      self.run_setup()\n",
      "    File \"C:\\Users\\acer\\AppData\\Local\\Temp\\pip-build-env-453hsv87\\overlay\\Lib\\site-packages\\setuptools\\build_meta.py\", line 522, in run_setup\n",
      "      super().run_setup(setup_script=setup_script)\n",
      "    File \"C:\\Users\\acer\\AppData\\Local\\Temp\\pip-build-env-453hsv87\\overlay\\Lib\\site-packages\\setuptools\\build_meta.py\", line 320, in run_setup\n",
      "      exec(code, locals())\n",
      "    File \"<string>\", line 301, in <module>\n",
      "    File \"<string>\", line 297, in setup_package\n",
      "    File \"C:\\Users\\acer\\AppData\\Local\\Temp\\pip-build-env-453hsv87\\overlay\\Lib\\site-packages\\numpy\\distutils\\core.py\", line 135, in setup\n",
      "      config = configuration()\n",
      "               ^^^^^^^^^^^^^^^\n",
      "    File \"<string>\", line 188, in configuration\n",
      "    File \"C:\\Users\\acer\\AppData\\Local\\Temp\\pip-build-env-453hsv87\\overlay\\Lib\\site-packages\\numpy\\distutils\\misc_util.py\", line 1041, in add_subpackage\n",
      "      config_list = self.get_subpackage(subpackage_name, subpackage_path,\n",
      "                    ^^^^^^^^^^^^^^^^^^^^^^^^^^^^^^^^^^^^^^^^^^^^^^^^^^^^^\n",
      "    File \"C:\\Users\\acer\\AppData\\Local\\Temp\\pip-build-env-453hsv87\\overlay\\Lib\\site-packages\\numpy\\distutils\\misc_util.py\", line 1007, in get_subpackage\n",
      "      config = self._get_configuration_from_setup_py(\n",
      "               ^^^^^^^^^^^^^^^^^^^^^^^^^^^^^^^^^^^^^^\n",
      "    File \"C:\\Users\\acer\\AppData\\Local\\Temp\\pip-build-env-453hsv87\\overlay\\Lib\\site-packages\\numpy\\distutils\\misc_util.py\", line 949, in _get_configuration_from_setup_py\n",
      "      config = setup_module.configuration(*args)\n",
      "               ^^^^^^^^^^^^^^^^^^^^^^^^^^^^^^^^^\n",
      "    File \"C:\\Users\\acer\\AppData\\Local\\Temp\\pip-install-zh3lgxf3\\scikit-learn_62f824f10a9841f0947d475c7eccbfcb\\sklearn\\setup.py\", line 83, in configuration\n",
      "      cythonize_extensions(top_path, config)\n",
      "    File \"C:\\Users\\acer\\AppData\\Local\\Temp\\pip-install-zh3lgxf3\\scikit-learn_62f824f10a9841f0947d475c7eccbfcb\\sklearn\\_build_utils\\__init__.py\", line 45, in cythonize_extensions\n",
      "      basic_check_build()\n",
      "    File \"C:\\Users\\acer\\AppData\\Local\\Temp\\pip-install-zh3lgxf3\\scikit-learn_62f824f10a9841f0947d475c7eccbfcb\\sklearn\\_build_utils\\pre_build_helpers.py\", line 106, in basic_check_build\n",
      "      compile_test_program(code)\n",
      "    File \"C:\\Users\\acer\\AppData\\Local\\Temp\\pip-install-zh3lgxf3\\scikit-learn_62f824f10a9841f0947d475c7eccbfcb\\sklearn\\_build_utils\\pre_build_helpers.py\", line 66, in compile_test_program\n",
      "      ccompiler.compile(['test_program.c'], output_dir='objects',\n",
      "    File \"C:\\Users\\acer\\AppData\\Local\\Temp\\pip-build-env-453hsv87\\overlay\\Lib\\site-packages\\setuptools\\_distutils\\_msvccompiler.py\", line 379, in compile\n",
      "      self.initialize()\n",
      "    File \"C:\\Users\\acer\\AppData\\Local\\Temp\\pip-build-env-453hsv87\\overlay\\Lib\\site-packages\\setuptools\\_distutils\\_msvccompiler.py\", line 289, in initialize\n",
      "      vc_env = _get_vc_env(plat_spec)\n",
      "               ^^^^^^^^^^^^^^^^^^^^^^\n",
      "    File \"C:\\Users\\acer\\AppData\\Local\\Temp\\pip-build-env-453hsv87\\overlay\\Lib\\site-packages\\setuptools\\_distutils\\_msvccompiler.py\", line 150, in _get_vc_env\n",
      "      raise DistutilsPlatformError(\n",
      "  distutils.errors.DistutilsPlatformError: Microsoft Visual C++ 14.0 or greater is required. Get it with \"Microsoft C++ Build Tools\": https://visualstudio.microsoft.com/visual-cpp-build-tools/\n",
      "  [end of output]\n",
      "  \n",
      "  note: This error originates from a subprocess, and is likely not a problem with pip.\n",
      "error: metadata-generation-failed\n",
      "\n",
      "Encountered error while generating package metadata.\n",
      "\n",
      "See above for output.\n",
      "\n",
      "note: This is an issue with the package mentioned above, not pip.\n",
      "hint: See above for details.\n"
     ]
    },
    {
     "name": "stdout",
     "output_type": "stream",
     "text": [
      "Requirement already satisfied: imbalanced-learn==0.8.0 in c:\\users\\acer\\anaconda3\\lib\\site-packages (0.8.0)\n",
      "Requirement already satisfied: numpy>=1.13.3 in c:\\users\\acer\\anaconda3\\lib\\site-packages (from imbalanced-learn==0.8.0) (1.26.4)\n",
      "Requirement already satisfied: scipy>=0.19.1 in c:\\users\\acer\\anaconda3\\lib\\site-packages (from imbalanced-learn==0.8.0) (1.10.1)\n",
      "Requirement already satisfied: scikit-learn>=0.24 in c:\\users\\acer\\anaconda3\\lib\\site-packages (from imbalanced-learn==0.8.0) (1.5.2)\n",
      "Requirement already satisfied: joblib>=0.11 in c:\\users\\acer\\anaconda3\\lib\\site-packages (from imbalanced-learn==0.8.0) (1.2.0)\n",
      "Requirement already satisfied: threadpoolctl>=3.1.0 in c:\\users\\acer\\anaconda3\\lib\\site-packages (from scikit-learn>=0.24->imbalanced-learn==0.8.0) (3.5.0)\n"
     ]
    }
   ],
   "source": [
    "!pip install scikit-learn==0.24.2\n",
    "!pip install imbalanced-learn==0.8.0\n"
   ]
  },
  {
   "cell_type": "code",
   "execution_count": 24,
   "id": "648b3714",
   "metadata": {},
   "outputs": [],
   "source": [
    "from imblearn.over_sampling import SMOTE\n",
    "\n",
    "def train_MLP_model_average(train_df):\n",
    "    positive_labels = train_df[train_df['class'] == 1]['tweet']\n",
    "    negative_labels = train_df[train_df['class'] == 0]['tweet']\n",
    "    positive_vector, positive_label = get_average_vector(positive_labels, 1)\n",
    "    negative_vector, negative_label = get_average_vector(negative_labels, 0)\n",
    "    X_train = positive_vector + negative_vector\n",
    "    y_train = positive_label + negative_label\n",
    "\n",
    "    # Apply SMOTE to handle class imbalance\n",
    "    smote = SMOTE(sampling_strategy='auto', random_state=42)\n",
    "    X_res, y_res = smote.fit_resample(X_train, y_train)\n",
    "\n",
    "    mlp = MLPClassifier(hidden_layer_sizes=(100, 100, 100), max_iter=500, random_state=42)\n",
    "    mlp.fit(X_res, y_res)  # Use resampled data for training\n",
    "\n",
    "    return mlp\n"
   ]
  },
  {
   "cell_type": "code",
   "execution_count": 25,
   "id": "1b01ec88",
   "metadata": {},
   "outputs": [],
   "source": [
    "from sklearn.model_selection import train_test_split\n",
    "\n",
    "train,test = train_test_split(df_train, test_size=0.2, random_state=42, stratify=y)"
   ]
  },
  {
   "cell_type": "code",
   "execution_count": 26,
   "id": "a5024e28",
   "metadata": {},
   "outputs": [],
   "source": [
    "mlp=train_MLP_model_average(train)"
   ]
  },
  {
   "cell_type": "markdown",
   "id": "7a183ea4",
   "metadata": {},
   "source": [
    "#### Result with Smote and twitter 200"
   ]
  },
  {
   "cell_type": "code",
   "execution_count": 27,
   "id": "0290c2c0",
   "metadata": {},
   "outputs": [
    {
     "name": "stdout",
     "output_type": "stream",
     "text": [
      "Accuracy: 0.9239459350413557\n",
      "Precision: 0.9577327143904226\n",
      "Recall: 0.950533462657614\n",
      "F1 Score: 0.9541195083363758\n",
      "Confusion Matrix:\n",
      "[[ 660  173]\n",
      " [ 204 3920]]\n"
     ]
    }
   ],
   "source": [
    "test_MLP_model(test,mlp)#glove-twitter-200 with smote"
   ]
  },
  {
   "cell_type": "code",
   "execution_count": 28,
   "id": "e80ad29c",
   "metadata": {},
   "outputs": [],
   "source": [
    "word2Vec = gensim.downloader.load('word2vec-google-news-300')"
   ]
  },
  {
   "cell_type": "code",
   "execution_count": 29,
   "id": "e9c50a12",
   "metadata": {},
   "outputs": [],
   "source": [
    "mlp=train_MLP_model_average(train)"
   ]
  },
  {
   "cell_type": "markdown",
   "id": "b5a7dc17",
   "metadata": {},
   "source": [
    "#### Result with smote and word2evec-google-300"
   ]
  },
  {
   "cell_type": "code",
   "execution_count": 30,
   "id": "7ae2ebff",
   "metadata": {},
   "outputs": [
    {
     "name": "stdout",
     "output_type": "stream",
     "text": [
      "Accuracy: 0.9227355255194675\n",
      "Precision: 0.9601476014760147\n",
      "Recall: 0.9464112512124151\n",
      "F1 Score: 0.9532299426059347\n",
      "Confusion Matrix:\n",
      "[[ 671  162]\n",
      " [ 221 3903]]\n"
     ]
    }
   ],
   "source": [
    "test_MLP_model(test,mlp)#word2evec-google-300 with smote"
   ]
  },
  {
   "cell_type": "code",
   "execution_count": 31,
   "id": "f93acc01",
   "metadata": {},
   "outputs": [],
   "source": [
    "def train_MLP_model_average(train_df):\n",
    "    #word2Vec = gensim.downloader.load('glove-twitter-25')\n",
    "    positive_labels=train_df[train_df['class']==1]['tweet']\n",
    "    negative_labels=train_df[train_df['class']==0]['tweet']\n",
    "    positive_vector,positive_label=get_average_vector(positive_labels,1)\n",
    "    negative_vector,negative_label=get_average_vector(negative_labels,0)\n",
    "    X_train=positive_vector+negative_vector\n",
    "    y_train=positive_label+negative_label\n",
    "    mlp = MLPClassifier(hidden_layer_sizes=(100, 100, 100), max_iter=500, random_state=42)\n",
    "    # Convert lists to numpy arrays for model training\n",
    "    print(len(X_train),len(y_train))\n",
    "    X_train = np.array(X_train)\n",
    "    y_train = np.array(y_train)\n",
    "    mlp.fit(X_train,y_train)\n",
    "    return mlp"
   ]
  },
  {
   "cell_type": "markdown",
   "id": "80c3da34",
   "metadata": {},
   "source": [
    "#### Result without smote and word2evec-google-300"
   ]
  },
  {
   "cell_type": "code",
   "execution_count": 32,
   "id": "b06f8b4d",
   "metadata": {},
   "outputs": [
    {
     "name": "stdout",
     "output_type": "stream",
     "text": [
      "19826 19826\n",
      "Accuracy: 0.9273754286867056\n",
      "Precision: 0.95947265625\n",
      "Recall: 0.9529582929194956\n",
      "F1 Score: 0.9562043795620438\n",
      "Confusion Matrix:\n",
      "[[ 667  166]\n",
      " [ 194 3930]]\n"
     ]
    }
   ],
   "source": [
    "mlp=train_MLP_model_average(train)\n",
    "test_MLP_model(test,mlp) #tword2evec-google-300 without smote"
   ]
  },
  {
   "cell_type": "markdown",
   "id": "7b6ef25f",
   "metadata": {},
   "source": [
    "# Now checking for LR with word2vec embeddings"
   ]
  },
  {
   "cell_type": "code",
   "execution_count": null,
   "id": "b7364a3d",
   "metadata": {},
   "outputs": [],
   "source": []
  }
 ],
 "metadata": {
  "kernelspec": {
   "display_name": "Python 3 (ipykernel)",
   "language": "python",
   "name": "python3"
  },
  "language_info": {
   "codemirror_mode": {
    "name": "ipython",
    "version": 3
   },
   "file_extension": ".py",
   "mimetype": "text/x-python",
   "name": "python",
   "nbconvert_exporter": "python",
   "pygments_lexer": "ipython3",
   "version": "3.11.5"
  }
 },
 "nbformat": 4,
 "nbformat_minor": 5
}
