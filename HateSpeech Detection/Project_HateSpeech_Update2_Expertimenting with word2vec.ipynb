{
 "cells": [
  {
   "cell_type": "markdown",
   "id": "2fccd7c6",
   "metadata": {},
   "source": [
    "# Here I'm checking for using smote with and without word2vec, glove twitter with MLP classifiers"
   ]
  },
  {
   "cell_type": "code",
   "execution_count": 28,
   "id": "93dd1934",
   "metadata": {},
   "outputs": [],
   "source": [
    "import pandas as pd\n",
    "import numpy as np\n",
    "import seaborn as sns\n",
    "from matplotlib import pyplot as plt\n",
    "import re\n",
    "import nltk\n",
    "from nltk.corpus import stopwords\n",
    "from nltk.stem import WordNetLemmatizer\n",
    "from collections import Counter\n",
    "from sklearn.model_selection import train_test_split\n",
    "from sklearn.metrics import accuracy_score, precision_score, recall_score, f1_score, confusion_matrix\n",
    "from sklearn.naive_bayes import MultinomialNB\n",
    "from sklearn.linear_model import LogisticRegression\n",
    "from sklearn.feature_extraction.text import TfidfVectorizer\n",
    "import gensim.downloader\n",
    "\n",
    "from sklearn.neural_network import MLPClassifier"
   ]
  },
  {
   "cell_type": "code",
   "execution_count": 2,
   "id": "6b2e16c2",
   "metadata": {},
   "outputs": [
    {
     "name": "stderr",
     "output_type": "stream",
     "text": [
      "[nltk_data] Downloading package stopwords to\n",
      "[nltk_data]     C:\\Users\\acer\\AppData\\Roaming\\nltk_data...\n",
      "[nltk_data]   Package stopwords is already up-to-date!\n"
     ]
    },
    {
     "data": {
      "text/plain": [
       "True"
      ]
     },
     "execution_count": 2,
     "metadata": {},
     "output_type": "execute_result"
    }
   ],
   "source": [
    "nltk.download('stopwords')"
   ]
  },
  {
   "cell_type": "code",
   "execution_count": 3,
   "id": "cf772ea0",
   "metadata": {},
   "outputs": [
    {
     "name": "stderr",
     "output_type": "stream",
     "text": [
      "[nltk_data] Downloading package wordnet to\n",
      "[nltk_data]     C:\\Users\\acer\\AppData\\Roaming\\nltk_data...\n",
      "[nltk_data]   Package wordnet is already up-to-date!\n"
     ]
    },
    {
     "data": {
      "text/plain": [
       "True"
      ]
     },
     "execution_count": 3,
     "metadata": {},
     "output_type": "execute_result"
    }
   ],
   "source": [
    "nltk.download('wordnet')"
   ]
  },
  {
   "cell_type": "markdown",
   "id": "846f3cb3",
   "metadata": {},
   "source": [
    "#### All the below steps aree from previous part 1"
   ]
  },
  {
   "cell_type": "code",
   "execution_count": 4,
   "id": "66f8da7f",
   "metadata": {},
   "outputs": [],
   "source": [
    "df_train=pd.read_csv('labeled_data.csv')"
   ]
  },
  {
   "cell_type": "code",
   "execution_count": 5,
   "id": "8a26642f",
   "metadata": {},
   "outputs": [],
   "source": [
    "# No empty data..plus Id is there, which I don't need. So, I'm dropping it\n",
    "df_train.drop(labels=['Unnamed: 0'],axis=1,inplace=True)"
   ]
  },
  {
   "cell_type": "code",
   "execution_count": 6,
   "id": "2be1c048",
   "metadata": {},
   "outputs": [],
   "source": [
    "df_train.loc[(df_train['class']== 1)|(df_train['class']==2),'class']=3\n"
   ]
  },
  {
   "cell_type": "code",
   "execution_count": 7,
   "id": "ae6d823b",
   "metadata": {},
   "outputs": [],
   "source": [
    "df_train.loc[(df_train['class']== 0),'class']=1"
   ]
  },
  {
   "cell_type": "code",
   "execution_count": 8,
   "id": "9c2eca22",
   "metadata": {},
   "outputs": [],
   "source": [
    "df_train.loc[(df_train['class']== 3),'class']=0"
   ]
  },
  {
   "cell_type": "code",
   "execution_count": 9,
   "id": "cd119c44",
   "metadata": {},
   "outputs": [],
   "source": [
    "hatespeech=df_train[df_train['class']==1]['class'].count()\n",
    "not_hatespeech=df_train[df_train['class']==0]['class'].count()"
   ]
  },
  {
   "cell_type": "code",
   "execution_count": 10,
   "id": "d03c3d74",
   "metadata": {},
   "outputs": [
    {
     "data": {
      "text/plain": [
       "Text(0.5, 1.0, 'Class Distribution')"
      ]
     },
     "execution_count": 10,
     "metadata": {},
     "output_type": "execute_result"
    },
    {
     "data": {
      "image/png": "[encoded data removed]",
      "text/plain": [
       "<Figure size 1000x800 with 1 Axes>"
      ]
     },
     "metadata": {},
     "output_type": "display_data"
    }
   ],
   "source": [
    "plt.figure(figsize=(10,8))\n",
    "plt.bar(x=['hatespeech','not_hatespeech'],height=[hatespeech,not_hatespeech])\n",
    "plt.xlabel('labels')\n",
    "plt.ylabel('count')\n",
    "plt.title('Class Distribution')"
   ]
  },
  {
   "cell_type": "code",
   "execution_count": 11,
   "id": "e99ec1dc",
   "metadata": {},
   "outputs": [],
   "source": [
    "X=df_train['tweet']\n",
    "y=df_train['class']"
   ]
  },
  {
   "cell_type": "code",
   "execution_count": 12,
   "id": "4248b377",
   "metadata": {},
   "outputs": [
    {
     "data": {
      "text/plain": [
       "class\n",
       "0    23353\n",
       "1     1430\n",
       "Name: count, dtype: int64"
      ]
     },
     "execution_count": 12,
     "metadata": {},
     "output_type": "execute_result"
    }
   ],
   "source": [
    "y.value_counts()"
   ]
  },
  {
   "cell_type": "markdown",
   "id": "5c912fa5",
   "metadata": {},
   "source": [
    "### Using glove embeddings for word2vec"
   ]
  },
  {
   "cell_type": "code",
   "execution_count": 15,
   "id": "00ee6754",
   "metadata": {},
   "outputs": [],
   "source": [
    "word2Vec = gensim.downloader.load('glove-twitter-200')"
   ]
  },
  {
   "cell_type": "code",
   "execution_count": 16,
   "id": "b8924af1",
   "metadata": {},
   "outputs": [],
   "source": [
    "stop_words = set(stopwords.words('english'))\n",
    "lemmatizer = WordNetLemmatizer()\n",
    "\n",
    "def preprocess(row):\n",
    "    row = row.lower()\n",
    "    row = re.sub(r'[^\\w\\s]', '', row)\n",
    "    words = row.split()\n",
    "    words = [lemmatizer.lemmatize(word) for word in words if word not in stop_words]\n",
    "    return ' '.join(words) if words else 'empty'\n",
    "\n",
    "        "
   ]
  },
  {
   "cell_type": "code",
   "execution_count": 17,
   "id": "8b3ffee0",
   "metadata": {},
   "outputs": [],
   "source": [
    "# Function to get the average vector for a set of reviews\n",
    "def get_average_vector(texts,label):    \n",
    "    training_vectors=[]\n",
    "    count_label=[]\n",
    "    for row in texts:\n",
    "        row = preprocess(row)  # Preprocessing remains consistent\n",
    "        words = row.split(\" \")\n",
    "        vector_list = []\n",
    "        for word in words:\n",
    "            if word in word2Vec:  # Ensure word is in the GloVe model\n",
    "                vector_list.append(word2Vec[word])\n",
    "        if vector_list:\n",
    "            training_vectors.append(np.mean(vector_list, axis=0))  # Simple average across vectors\n",
    "        else:\n",
    "            training_vectors.append(np.zeros(word2Vec.vector_size))# Return zeros if no vectors found\n",
    "        count_label.append(label)\n",
    "    return training_vectors,count_label"
   ]
  },
  {
   "cell_type": "code",
   "execution_count": 40,
   "id": "2b6509d8",
   "metadata": {},
   "outputs": [],
   "source": [
    "def train_MLP_model_average(train_df):\n",
    "    #word2Vec = gensim.downloader.load('glove-twitter-25')\n",
    "    positive_labels=train_df[train_df['class']==1]['tweet']\n",
    "    negative_labels=train_df[train_df['class']==0]['tweet']\n",
    "    positive_vector,positive_label=get_average_vector(positive_labels,1)\n",
    "    negative_vector,negative_label=get_average_vector(negative_labels,0)\n",
    "    X_train=positive_vector+negative_vector\n",
    "    y_train=positive_label+negative_label\n",
    "    mlp = MLPClassifier(hidden_layer_sizes=(100, 100, 100), max_iter=500, random_state=42)\n",
    "    # Convert lists to numpy arrays for model training\n",
    "    print(len(X_train),len(y_train))\n",
    "    X_train = np.array(X_train)\n",
    "    y_train = np.array(y_train)\n",
    "    mlp.fit(X_train,y_train)\n",
    "    return mlp"
   ]
  },
  {
   "cell_type": "code",
   "execution_count": 41,
   "id": "bd7551b0",
   "metadata": {},
   "outputs": [],
   "source": [
    "from sklearn.model_selection import train_test_split\n",
    "\n",
    "train,test = train_test_split(df_train, test_size=0.2, random_state=42, stratify=y)"
   ]
  },
  {
   "cell_type": "code",
   "execution_count": null,
   "id": "eff78fef",
   "metadata": {},
   "outputs": [],
   "source": []
  },
  {
   "cell_type": "code",
   "execution_count": 42,
   "id": "347ca8ca",
   "metadata": {},
   "outputs": [
    {
     "name": "stdout",
     "output_type": "stream",
     "text": [
      "19826 19826\n"
     ]
    }
   ],
   "source": [
    "mlp=train_MLP_model_average(train)"
   ]
  },
  {
   "cell_type": "code",
   "execution_count": 43,
   "id": "9b673acc",
   "metadata": {},
   "outputs": [],
   "source": [
    "def test_MLP_model(test, MLP_model, input_type='average'):\n",
    "    '''df_test = pd.read_csv(path_to_test_file, sep='\\t', header=None)\n",
    "    df_test = df_test.rename(columns={0: 'text', 1: 'label'})'''\n",
    "\n",
    "    # Helper function to choose between average and max pooling\n",
    "    def get_text_vector(text):\n",
    "        text = preprocess(text)\n",
    "        words = text.split(\" \")\n",
    "        vector_list = []\n",
    "        for word in words:\n",
    "            if word in word2Vec:\n",
    "                vector_list.append(word2Vec[word])\n",
    "        if vector_list:\n",
    "            if input_type == 'average':\n",
    "                return np.mean(vector_list, axis=0)  # Average vector\n",
    "        else:\n",
    "            return np.zeros(word2Vec.vector_size)  # Zero vector if no valid words\n",
    "\n",
    "    # Create vectors for the test set\n",
    "    X_test = np.array([get_text_vector(row) for row in test['tweet']])\n",
    "    y_test = test['class'].values\n",
    "    \n",
    "    # Get predictions and probabilities\n",
    "    y_pred = MLP_model.predict(X_test)\n",
    "    y_prob = MLP_model.predict_proba(X_test)[:, 1]  # Probability of being positive\n",
    "\n",
    "    # Add new columns to the test dataframe\n",
    "    test['probability_positive'] = y_prob\n",
    "    test['predicted_class'] = y_pred\n",
    "\n",
    "    # Calculate metrics\n",
    "    accuracy = accuracy_score(y_test, y_pred)\n",
    "    precision = precision_score(y_test, y_pred, average='binary')\n",
    "    recall = recall_score(y_test, y_pred, average='binary')\n",
    "    conf_matrix = confusion_matrix(y_test, y_pred)\n",
    "    f1 = f1_score(y_test, y_pred, average='binary')\n",
    "\n",
    "    # Print metrics\n",
    "    print(f\"Accuracy: {accuracy}\")\n",
    "    print(f\"Precision: {precision}\")\n",
    "    print(f\"Recall: {recall}\")\n",
    "    print(f\"F1 Score: {f1}\")\n",
    "    print(f\"Confusion Matrix:\\n{conf_matrix}\")\n"
   ]
  },
  {
   "cell_type": "markdown",
   "id": "9b8080a7",
   "metadata": {},
   "source": [
    "#### Result without Smote and twitter 200"
   ]
  },
  {
   "cell_type": "code",
   "execution_count": 44,
   "id": "0079151d",
   "metadata": {},
   "outputs": [
    {
     "name": "stdout",
     "output_type": "stream",
     "text": [
      "Accuracy: 0.9372604397821263\n",
      "Precision: 0.4161073825503356\n",
      "Recall: 0.21678321678321677\n",
      "F1 Score: 0.2850574712643678\n",
      "Confusion Matrix:\n",
      "[[4584   87]\n",
      " [ 224   62]]\n"
     ]
    }
   ],
   "source": [
    "test_MLP_model(test,mlp) #twitter 200 without smote"
   ]
  },
  {
   "cell_type": "code",
   "execution_count": 48,
   "id": "9eb90828",
   "metadata": {},
   "outputs": [
    {
     "data": {
      "text/plain": [
       "count                   286\n",
       "hate_speech             286\n",
       "offensive_language      286\n",
       "neither                 286\n",
       "class                   286\n",
       "tweet                   286\n",
       "probability_positive    286\n",
       "predicted_class         286\n",
       "dtype: int64"
      ]
     },
     "execution_count": 48,
     "metadata": {},
     "output_type": "execute_result"
    }
   ],
   "source": [
    "test[test['class']==1].count()"
   ]
  },
  {
   "cell_type": "code",
   "execution_count": 49,
   "id": "52845368",
   "metadata": {},
   "outputs": [
    {
     "name": "stdout",
     "output_type": "stream",
     "text": [
      "Requirement already satisfied: scikit-learn in c:\\users\\acer\\anaconda3\\lib\\site-packages (1.5.2)\n",
      "Requirement already satisfied: numpy>=1.19.5 in c:\\users\\acer\\anaconda3\\lib\\site-packages (from scikit-learn) (1.24.3)\n",
      "Requirement already satisfied: scipy>=1.6.0 in c:\\users\\acer\\anaconda3\\lib\\site-packages (from scikit-learn) (1.11.1)\n",
      "Requirement already satisfied: joblib>=1.2.0 in c:\\users\\acer\\anaconda3\\lib\\site-packages (from scikit-learn) (1.2.0)\n",
      "Requirement already satisfied: threadpoolctl>=3.1.0 in c:\\users\\acer\\anaconda3\\lib\\site-packages (from scikit-learn) (3.5.0)\n",
      "Requirement already satisfied: imbalanced-learn in c:\\users\\acer\\anaconda3\\lib\\site-packages (0.9.0)\n",
      "Requirement already satisfied: numpy>=1.14.6 in c:\\users\\acer\\anaconda3\\lib\\site-packages (from imbalanced-learn) (1.24.3)\n",
      "Requirement already satisfied: scipy>=1.1.0 in c:\\users\\acer\\anaconda3\\lib\\site-packages (from imbalanced-learn) (1.11.1)\n",
      "Requirement already satisfied: scikit-learn>=1.0.1 in c:\\users\\acer\\anaconda3\\lib\\site-packages (from imbalanced-learn) (1.5.2)\n",
      "Requirement already satisfied: joblib>=0.11 in c:\\users\\acer\\anaconda3\\lib\\site-packages (from imbalanced-learn) (1.2.0)\n",
      "Requirement already satisfied: threadpoolctl>=2.0.0 in c:\\users\\acer\\anaconda3\\lib\\site-packages (from imbalanced-learn) (3.5.0)\n"
     ]
    }
   ],
   "source": [
    "!pip install scikit-learn\n",
    "!pip install imbalanced-learn"
   ]
  },
  {
   "cell_type": "code",
   "execution_count": 52,
   "id": "3d94a21e",
   "metadata": {},
   "outputs": [
    {
     "name": "stdout",
     "output_type": "stream",
     "text": [
      "Collecting scikit-learn==0.24.2\n",
      "  Downloading scikit-learn-0.24.2.tar.gz (7.5 MB)\n",
      "     ---------------------------------------- 0.0/7.5 MB ? eta -:--:--\n",
      "     ---------------------------------------- 0.0/7.5 MB ? eta -:--:--\n",
      "     ---------------------------------------- 0.0/7.5 MB 325.1 kB/s eta 0:00:24\n",
      "     ---------------------------------------- 0.1/7.5 MB 491.5 kB/s eta 0:00:16\n",
      "     - -------------------------------------- 0.3/7.5 MB 1.5 MB/s eta 0:00:05\n",
      "     --- ------------------------------------ 0.7/7.5 MB 3.4 MB/s eta 0:00:03\n",
      "     ------- -------------------------------- 1.4/7.5 MB 5.1 MB/s eta 0:00:02\n",
      "     ----------- ---------------------------- 2.1/7.5 MB 6.6 MB/s eta 0:00:01\n",
      "     -------------- ------------------------- 2.7/7.5 MB 7.4 MB/s eta 0:00:01\n",
      "     ----------------- ---------------------- 3.3/7.5 MB 8.1 MB/s eta 0:00:01\n",
      "     --------------------- ------------------ 4.0/7.5 MB 8.9 MB/s eta 0:00:01\n",
      "     ------------------------- -------------- 4.8/7.5 MB 9.5 MB/s eta 0:00:01\n",
      "     ----------------------------- ---------- 5.5/7.5 MB 10.0 MB/s eta 0:00:01\n",
      "     -------------------------------- ------- 6.1/7.5 MB 10.3 MB/s eta 0:00:01\n",
      "     ------------------------------------- -- 7.0/7.5 MB 10.9 MB/s eta 0:00:01\n",
      "     ---------------------------------------  7.3/7.5 MB 10.4 MB/s eta 0:00:01\n",
      "     ---------------------------------------- 7.5/7.5 MB 10.2 MB/s eta 0:00:00\n",
      "  Installing build dependencies: started\n",
      "  Installing build dependencies: finished with status 'done'\n",
      "  Getting requirements to build wheel: started\n",
      "  Getting requirements to build wheel: finished with status 'done'\n",
      "  Preparing metadata (pyproject.toml): started\n",
      "  Preparing metadata (pyproject.toml): finished with status 'error'\n"
     ]
    },
    {
     "name": "stderr",
     "output_type": "stream",
     "text": [
      "  error: subprocess-exited-with-error\n",
      "  \n",
      "  Preparing metadata (pyproject.toml) did not run successfully.\n",
      "  exit code: 1\n",
      "  \n",
      "  [59 lines of output]\n",
      "  <string>:17: DeprecationWarning: pkg_resources is deprecated as an API. See https://setuptools.pypa.io/en/latest/pkg_resources.html\n",
      "  Partial import of sklearn during the build process.\n",
      "  <string>:116: DeprecationWarning:\n",
      "  \n",
      "    `numpy.distutils` is deprecated since NumPy 1.23.0, as a result\n",
      "    of the deprecation of `distutils` itself. It will be removed for\n",
      "    Python >= 3.12. For older Python versions it will remain present.\n",
      "    It is recommended to use `setuptools < 60.0` for those Python versions.\n",
      "    For more details, see:\n",
      "      https://numpy.org/devdocs/reference/distutils_status_migration.html\n",
      "  \n",
      "  \n",
      "  INFO: No module named 'numpy.distutils._msvccompiler' in numpy.distutils; trying from distutils\n",
      "  Traceback (most recent call last):\n",
      "    File \"C:\\Users\\acer\\anaconda3\\Lib\\site-packages\\pip\\_vendor\\pyproject_hooks\\_in_process\\_in_process.py\", line 353, in <module>\n",
      "      main()\n",
      "    File \"C:\\Users\\acer\\anaconda3\\Lib\\site-packages\\pip\\_vendor\\pyproject_hooks\\_in_process\\_in_process.py\", line 335, in main\n",
      "      json_out['return_val'] = hook(**hook_input['kwargs'])\n",
      "                               ^^^^^^^^^^^^^^^^^^^^^^^^^^^^\n",
      "    File \"C:\\Users\\acer\\anaconda3\\Lib\\site-packages\\pip\\_vendor\\pyproject_hooks\\_in_process\\_in_process.py\", line 149, in prepare_metadata_for_build_wheel\n",
      "      return hook(metadata_directory, config_settings)\n",
      "             ^^^^^^^^^^^^^^^^^^^^^^^^^^^^^^^^^^^^^^^^^\n",
      "    File \"C:\\Users\\acer\\AppData\\Local\\Temp\\pip-build-env-d3actspf\\overlay\\Lib\\site-packages\\setuptools\\build_meta.py\", line 377, in prepare_metadata_for_build_wheel\n",
      "      self.run_setup()\n",
      "    File \"C:\\Users\\acer\\AppData\\Local\\Temp\\pip-build-env-d3actspf\\overlay\\Lib\\site-packages\\setuptools\\build_meta.py\", line 522, in run_setup\n",
      "      super().run_setup(setup_script=setup_script)\n",
      "    File \"C:\\Users\\acer\\AppData\\Local\\Temp\\pip-build-env-d3actspf\\overlay\\Lib\\site-packages\\setuptools\\build_meta.py\", line 320, in run_setup\n",
      "      exec(code, locals())\n",
      "    File \"<string>\", line 301, in <module>\n",
      "    File \"<string>\", line 297, in setup_package\n",
      "    File \"C:\\Users\\acer\\AppData\\Local\\Temp\\pip-build-env-d3actspf\\overlay\\Lib\\site-packages\\numpy\\distutils\\core.py\", line 135, in setup\n",
      "      config = configuration()\n",
      "               ^^^^^^^^^^^^^^^\n",
      "    File \"<string>\", line 188, in configuration\n",
      "    File \"C:\\Users\\acer\\AppData\\Local\\Temp\\pip-build-env-d3actspf\\overlay\\Lib\\site-packages\\numpy\\distutils\\misc_util.py\", line 1041, in add_subpackage\n",
      "      config_list = self.get_subpackage(subpackage_name, subpackage_path,\n",
      "                    ^^^^^^^^^^^^^^^^^^^^^^^^^^^^^^^^^^^^^^^^^^^^^^^^^^^^^\n",
      "    File \"C:\\Users\\acer\\AppData\\Local\\Temp\\pip-build-env-d3actspf\\overlay\\Lib\\site-packages\\numpy\\distutils\\misc_util.py\", line 1007, in get_subpackage\n",
      "      config = self._get_configuration_from_setup_py(\n",
      "               ^^^^^^^^^^^^^^^^^^^^^^^^^^^^^^^^^^^^^^\n",
      "    File \"C:\\Users\\acer\\AppData\\Local\\Temp\\pip-build-env-d3actspf\\overlay\\Lib\\site-packages\\numpy\\distutils\\misc_util.py\", line 949, in _get_configuration_from_setup_py\n",
      "      config = setup_module.configuration(*args)\n",
      "               ^^^^^^^^^^^^^^^^^^^^^^^^^^^^^^^^^\n",
      "    File \"C:\\Users\\acer\\AppData\\Local\\Temp\\pip-install-2vhxazah\\scikit-learn_3ae3e3d829c74d2599f8a111056f21cc\\sklearn\\setup.py\", line 83, in configuration\n",
      "      cythonize_extensions(top_path, config)\n",
      "    File \"C:\\Users\\acer\\AppData\\Local\\Temp\\pip-install-2vhxazah\\scikit-learn_3ae3e3d829c74d2599f8a111056f21cc\\sklearn\\_build_utils\\__init__.py\", line 45, in cythonize_extensions\n",
      "      basic_check_build()\n",
      "    File \"C:\\Users\\acer\\AppData\\Local\\Temp\\pip-install-2vhxazah\\scikit-learn_3ae3e3d829c74d2599f8a111056f21cc\\sklearn\\_build_utils\\pre_build_helpers.py\", line 106, in basic_check_build\n",
      "      compile_test_program(code)\n",
      "    File \"C:\\Users\\acer\\AppData\\Local\\Temp\\pip-install-2vhxazah\\scikit-learn_3ae3e3d829c74d2599f8a111056f21cc\\sklearn\\_build_utils\\pre_build_helpers.py\", line 66, in compile_test_program\n",
      "      ccompiler.compile(['test_program.c'], output_dir='objects',\n",
      "    File \"C:\\Users\\acer\\AppData\\Local\\Temp\\pip-build-env-d3actspf\\overlay\\Lib\\site-packages\\setuptools\\_distutils\\_msvccompiler.py\", line 379, in compile\n",
      "      self.initialize()\n",
      "    File \"C:\\Users\\acer\\AppData\\Local\\Temp\\pip-build-env-d3actspf\\overlay\\Lib\\site-packages\\setuptools\\_distutils\\_msvccompiler.py\", line 289, in initialize\n",
      "      vc_env = _get_vc_env(plat_spec)\n",
      "               ^^^^^^^^^^^^^^^^^^^^^^\n",
      "    File \"C:\\Users\\acer\\AppData\\Local\\Temp\\pip-build-env-d3actspf\\overlay\\Lib\\site-packages\\setuptools\\_distutils\\_msvccompiler.py\", line 150, in _get_vc_env\n",
      "      raise DistutilsPlatformError(\n",
      "  distutils.errors.DistutilsPlatformError: Microsoft Visual C++ 14.0 or greater is required. Get it with \"Microsoft C++ Build Tools\": https://visualstudio.microsoft.com/visual-cpp-build-tools/\n",
      "  [end of output]\n",
      "  \n",
      "  note: This error originates from a subprocess, and is likely not a problem with pip.\n",
      "error: metadata-generation-failed\n",
      "\n",
      "Encountered error while generating package metadata.\n",
      "\n",
      "See above for output.\n",
      "\n",
      "note: This is an issue with the package mentioned above, not pip.\n",
      "hint: See above for details.\n"
     ]
    },
    {
     "name": "stdout",
     "output_type": "stream",
     "text": [
      "Collecting imbalanced-learn==0.8.0\n",
      "  Obtaining dependency information for imbalanced-learn==0.8.0 from https://files.pythonhosted.org/packages/80/98/dc784205a7e3034e84d41ac4781660c67ad6327f2f5a80c568df31673d1c/imbalanced_learn-0.8.0-py3-none-any.whl.metadata\n",
      "  Downloading imbalanced_learn-0.8.0-py3-none-any.whl.metadata (11 kB)\n",
      "Requirement already satisfied: numpy>=1.13.3 in c:\\users\\acer\\anaconda3\\lib\\site-packages (from imbalanced-learn==0.8.0) (1.24.3)\n",
      "Requirement already satisfied: scipy>=0.19.1 in c:\\users\\acer\\anaconda3\\lib\\site-packages (from imbalanced-learn==0.8.0) (1.11.1)\n",
      "Requirement already satisfied: scikit-learn>=0.24 in c:\\users\\acer\\anaconda3\\lib\\site-packages (from imbalanced-learn==0.8.0) (1.5.2)\n",
      "Requirement already satisfied: joblib>=0.11 in c:\\users\\acer\\anaconda3\\lib\\site-packages (from imbalanced-learn==0.8.0) (1.2.0)\n",
      "Requirement already satisfied: threadpoolctl>=3.1.0 in c:\\users\\acer\\anaconda3\\lib\\site-packages (from scikit-learn>=0.24->imbalanced-learn==0.8.0) (3.5.0)\n",
      "Downloading imbalanced_learn-0.8.0-py3-none-any.whl (206 kB)\n",
      "   ---------------------------------------- 0.0/206.5 kB ? eta -:--:--\n",
      "   --- ----------------------------------- 20.5/206.5 kB 682.7 kB/s eta 0:00:01\n",
      "   ------------- ------------------------- 71.7/206.5 kB 787.7 kB/s eta 0:00:01\n",
      "   ---------------------------------------- 206.5/206.5 kB 1.8 MB/s eta 0:00:00\n",
      "Installing collected packages: imbalanced-learn\n",
      "  Attempting uninstall: imbalanced-learn\n",
      "    Found existing installation: imbalanced-learn 0.9.0\n",
      "    Uninstalling imbalanced-learn-0.9.0:\n",
      "      Successfully uninstalled imbalanced-learn-0.9.0\n",
      "Successfully installed imbalanced-learn-0.8.0\n"
     ]
    }
   ],
   "source": [
    "!pip install scikit-learn==0.24.2\n",
    "!pip install imbalanced-learn==0.8.0\n"
   ]
  },
  {
   "cell_type": "code",
   "execution_count": 61,
   "id": "648b3714",
   "metadata": {},
   "outputs": [],
   "source": [
    "from imblearn.over_sampling import SMOTE\n",
    "\n",
    "def train_MLP_model_average(train_df):\n",
    "    positive_labels = train_df[train_df['class'] == 1]['tweet']\n",
    "    negative_labels = train_df[train_df['class'] == 0]['tweet']\n",
    "    positive_vector, positive_label = get_average_vector(positive_labels, 1)\n",
    "    negative_vector, negative_label = get_average_vector(negative_labels, 0)\n",
    "    X_train = positive_vector + negative_vector\n",
    "    y_train = positive_label + negative_label\n",
    "\n",
    "    # Apply SMOTE to handle class imbalance\n",
    "    smote = SMOTE(sampling_strategy='auto', random_state=42)\n",
    "    X_res, y_res = smote.fit_resample(X_train, y_train)\n",
    "\n",
    "    mlp = MLPClassifier(hidden_layer_sizes=(100, 100, 100), max_iter=500, random_state=42)\n",
    "    mlp.fit(X_res, y_res)  # Use resampled data for training\n",
    "\n",
    "    return mlp\n"
   ]
  },
  {
   "cell_type": "code",
   "execution_count": 62,
   "id": "1b01ec88",
   "metadata": {},
   "outputs": [],
   "source": [
    "from sklearn.model_selection import train_test_split\n",
    "\n",
    "train,test = train_test_split(df_train, test_size=0.2, random_state=42, stratify=y)"
   ]
  },
  {
   "cell_type": "code",
   "execution_count": 63,
   "id": "a5024e28",
   "metadata": {},
   "outputs": [],
   "source": [
    "mlp=train_MLP_model_average(train)"
   ]
  },
  {
   "cell_type": "markdown",
   "id": "7a183ea4",
   "metadata": {},
   "source": [
    "#### Result with Smote and twitter 200"
   ]
  },
  {
   "cell_type": "code",
   "execution_count": 64,
   "id": "0290c2c0",
   "metadata": {},
   "outputs": [
    {
     "name": "stdout",
     "output_type": "stream",
     "text": [
      "Accuracy: 0.9239459350413557\n",
      "Precision: 0.3333333333333333\n",
      "Recall: 0.3181818181818182\n",
      "F1 Score: 0.32558139534883723\n",
      "Confusion Matrix:\n",
      "[[4489  182]\n",
      " [ 195   91]]\n"
     ]
    }
   ],
   "source": [
    "test_MLP_model(test,mlp)#glove-twitter-200 with smote"
   ]
  },
  {
   "cell_type": "code",
   "execution_count": 65,
   "id": "e80ad29c",
   "metadata": {},
   "outputs": [],
   "source": [
    "word2Vec = gensim.downloader.load('word2vec-google-news-300')"
   ]
  },
  {
   "cell_type": "code",
   "execution_count": 66,
   "id": "e9c50a12",
   "metadata": {},
   "outputs": [],
   "source": [
    "mlp=train_MLP_model_average(train)"
   ]
  },
  {
   "cell_type": "markdown",
   "id": "b5a7dc17",
   "metadata": {},
   "source": [
    "#### Result with smote and word2evec-google-300"
   ]
  },
  {
   "cell_type": "code",
   "execution_count": 67,
   "id": "7ae2ebff",
   "metadata": {},
   "outputs": [
    {
     "name": "stdout",
     "output_type": "stream",
     "text": [
      "Accuracy: 0.9009481541254791\n",
      "Precision: 0.24181360201511334\n",
      "Recall: 0.3356643356643357\n",
      "F1 Score: 0.28111273792093705\n",
      "Confusion Matrix:\n",
      "[[4370  301]\n",
      " [ 190   96]]\n"
     ]
    }
   ],
   "source": [
    "test_MLP_model(test,mlp)#word2evec-google-300 with smote"
   ]
  },
  {
   "cell_type": "code",
   "execution_count": 69,
   "id": "f93acc01",
   "metadata": {},
   "outputs": [],
   "source": [
    "def train_MLP_model_average(train_df):\n",
    "    #word2Vec = gensim.downloader.load('glove-twitter-25')\n",
    "    positive_labels=train_df[train_df['class']==1]['tweet']\n",
    "    negative_labels=train_df[train_df['class']==0]['tweet']\n",
    "    positive_vector,positive_label=get_average_vector(positive_labels,1)\n",
    "    negative_vector,negative_label=get_average_vector(negative_labels,0)\n",
    "    X_train=positive_vector+negative_vector\n",
    "    y_train=positive_label+negative_label\n",
    "    mlp = MLPClassifier(hidden_layer_sizes=(100, 100, 100), max_iter=500, random_state=42)\n",
    "    # Convert lists to numpy arrays for model training\n",
    "    print(len(X_train),len(y_train))\n",
    "    X_train = np.array(X_train)\n",
    "    y_train = np.array(y_train)\n",
    "    mlp.fit(X_train,y_train)\n",
    "    return mlp"
   ]
  },
  {
   "cell_type": "markdown",
   "id": "80c3da34",
   "metadata": {},
   "source": [
    "#### Result without smote and word2evec-google-300"
   ]
  },
  {
   "cell_type": "code",
   "execution_count": 71,
   "id": "b06f8b4d",
   "metadata": {},
   "outputs": [
    {
     "name": "stdout",
     "output_type": "stream",
     "text": [
      "19826 19826\n",
      "Accuracy: 0.9334274762961469\n",
      "Precision: 0.3674698795180723\n",
      "Recall: 0.21328671328671328\n",
      "F1 Score: 0.26991150442477874\n",
      "Confusion Matrix:\n",
      "[[4566  105]\n",
      " [ 225   61]]\n"
     ]
    }
   ],
   "source": [
    "mlp=train_MLP_model_average(train)\n",
    "test_MLP_model(test,mlp) #tword2evec-google-300 without smote"
   ]
  },
  {
   "cell_type": "markdown",
   "id": "7b6ef25f",
   "metadata": {},
   "source": [
    "# Now checking for LR with word2vec embeddings"
   ]
  },
  {
   "cell_type": "code",
   "execution_count": null,
   "id": "b7364a3d",
   "metadata": {},
   "outputs": [],
   "source": []
  }
 ],
 "metadata": {
  "kernelspec": {
   "display_name": "Python 3 (ipykernel)",
   "language": "python",
   "name": "python3"
  },
  "language_info": {
   "codemirror_mode": {
    "name": "ipython",
    "version": 3
   },
   "file_extension": ".py",
   "mimetype": "text/x-python",
   "name": "python",
   "nbconvert_exporter": "python",
   "pygments_lexer": "ipython3",
   "version": "3.11.5"
  }
 },
 "nbformat": 4,
 "nbformat_minor": 5
}
